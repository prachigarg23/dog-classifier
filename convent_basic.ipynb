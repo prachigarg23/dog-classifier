{
 "cells": [
  {
   "cell_type": "markdown",
   "metadata": {},
   "source": [
    "### This model was trained on the first set of limited data- 246 train and 38 test examples \n",
    "<br>\n",
    "> - The procedure used for loading data here is different from elsewhere. This was the initial method after which i wrote a better one. In this, 'files_train.csv' contains the names of all files. These are used to load data. \n",
    "<br>\n",
    "<br>\n",
    "> - This model has a validation accuracy of 71%"
   ]
  },
  {
   "cell_type": "code",
   "execution_count": 1,
   "metadata": {},
   "outputs": [
    {
     "name": "stderr",
     "output_type": "stream",
     "text": [
      "/usr/local/lib/python3.6/dist-packages/h5py/__init__.py:36: FutureWarning: Conversion of the second argument of issubdtype from `float` to `np.floating` is deprecated. In future, it will be treated as `np.float64 == np.dtype(float).type`.\n",
      "  from ._conv import register_converters as _register_converters\n",
      "Using TensorFlow backend.\n"
     ]
    }
   ],
   "source": [
    "import numpy as np\n",
    "from keras.preprocessing.image import load_img, img_to_array\n",
    "from keras.utils import to_categorical"
   ]
  },
  {
   "cell_type": "code",
   "execution_count": 2,
   "metadata": {},
   "outputs": [
    {
     "name": "stdout",
     "output_type": "stream",
     "text": [
      "246\n",
      "38\n"
     ]
    }
   ],
   "source": [
    "# loading training data names into train_files\n",
    "fin = open(\"files_train.csv\", 'r')\n",
    "train_files = []\n",
    "for line in fin:\n",
    "    train_files.append(line)\n",
    "print(len(train_files))\n",
    "\n",
    "#loading test data names into test_files\n",
    "fin = open(\"files_test.csv\", 'r')\n",
    "test_files = []\n",
    "for line in fin:\n",
    "    test_files.append(line)\n",
    "print(len(test_files))"
   ]
  },
  {
   "cell_type": "code",
   "execution_count": 3,
   "metadata": {},
   "outputs": [
    {
     "name": "stdout",
     "output_type": "stream",
     "text": [
      "(246, 256, 256, 3)\n"
     ]
    }
   ],
   "source": [
    "# load training images \n",
    "train_images = []\n",
    "train_y = []\n",
    "for i in range(len(train_files)):\n",
    "    data_path = \"dog_images_train/\"\n",
    "    img = load_img(path=data_path+(train_files[i].strip()), target_size=(256,256))\n",
    "    img = img_to_array(img)\n",
    "    train_images.append(img)\n",
    "    if train_files[i].startswith('dog'):\n",
    "        train_y.append(1) \n",
    "    else:\n",
    "        train_y.append(0)\n",
    "train_images = np.array(train_images)\n",
    "print(train_images.shape)"
   ]
  },
  {
   "cell_type": "code",
   "execution_count": 4,
   "metadata": {},
   "outputs": [
    {
     "name": "stdout",
     "output_type": "stream",
     "text": [
      "(38, 256, 256, 3)\n"
     ]
    }
   ],
   "source": [
    "# load testing images \n",
    "test_images = []\n",
    "test_y = []\n",
    "for i in range(len(test_files)):\n",
    "    data_path = \"dog_images_test/\"\n",
    "    img = load_img(path=data_path+(test_files[i].strip()), target_size=(256,256))\n",
    "    img = img_to_array(img)\n",
    "    test_images.append(img)\n",
    "    if test_files[i].startswith('dog'):\n",
    "        test_y.append(1) \n",
    "    else:\n",
    "        test_y.append(0)\n",
    "\n",
    "test_images = np.array(test_images)\n",
    "print(test_images.shape)"
   ]
  },
  {
   "cell_type": "code",
   "execution_count": 5,
   "metadata": {},
   "outputs": [],
   "source": [
    "from keras.models import Sequential\n",
    "from keras.layers import Conv2D, MaxPooling2D\n",
    "from keras.layers import Activation, Dropout, Flatten, Dense\n",
    "from keras.preprocessing.image import ImageDataGenerator"
   ]
  },
  {
   "cell_type": "code",
   "execution_count": 6,
   "metadata": {},
   "outputs": [],
   "source": [
    "model = Sequential()\n",
    "model.add(Conv2D(32, (3, 3), input_shape=(256, 256, 3)))\n",
    "model.add(Activation('relu'))\n",
    "model.add(MaxPooling2D(pool_size=(2, 2)))\n",
    "\n",
    "model.add(Conv2D(32, (3, 3)))\n",
    "model.add(Activation('relu'))\n",
    "model.add(MaxPooling2D(pool_size=(2, 2)))\n",
    "\n",
    "model.add(Conv2D(64, (3, 3)))\n",
    "model.add(Activation('relu'))\n",
    "model.add(MaxPooling2D(pool_size=(2, 2)))\n",
    "\n",
    "model.add(Flatten())  \n",
    "model.add(Dense(64))\n",
    "model.add(Activation('relu'))\n",
    "model.add(Dropout(0.2))\n",
    "model.add(Dense(1))\n",
    "model.add(Activation('sigmoid'))\n",
    "\n",
    "model.compile(loss='binary_crossentropy',\n",
    "              optimizer='rmsprop',\n",
    "              metrics=['accuracy'])"
   ]
  },
  {
   "cell_type": "code",
   "execution_count": 12,
   "metadata": {},
   "outputs": [],
   "source": [
    "batch_size = 16\n",
    "train_datagen = ImageDataGenerator(\n",
    "        rotation_range=26,\n",
    "        width_shift_range=0.15,\n",
    "        height_shift_range=0.15,\n",
    "        rescale=1./255,\n",
    "        shear_range=0.17,\n",
    "        zoom_range=0.16,\n",
    "        horizontal_flip=True,\n",
    "        fill_mode='nearest')\n",
    "test_datagen = ImageDataGenerator(rescale=1./255)"
   ]
  },
  {
   "cell_type": "code",
   "execution_count": 13,
   "metadata": {},
   "outputs": [
    {
     "name": "stdout",
     "output_type": "stream",
     "text": [
      "Epoch 1/50\n",
      "15/15 [==============================] - 4s 267ms/step - loss: 0.3695 - acc: 0.8458 - val_loss: 0.8368 - val_acc: 0.6579\n",
      "Epoch 2/50\n",
      "15/15 [==============================] - 4s 240ms/step - loss: 0.5061 - acc: 0.7961 - val_loss: 0.6031 - val_acc: 0.7368\n",
      "Epoch 3/50\n",
      "15/15 [==============================] - 4s 251ms/step - loss: 0.4495 - acc: 0.8500 - val_loss: 0.7012 - val_acc: 0.6316\n",
      "Epoch 4/50\n",
      "15/15 [==============================] - 4s 235ms/step - loss: 0.4190 - acc: 0.8236 - val_loss: 0.7498 - val_acc: 0.6842\n",
      "Epoch 5/50\n",
      "15/15 [==============================] - 4s 243ms/step - loss: 0.3653 - acc: 0.8324 - val_loss: 0.7513 - val_acc: 0.6579\n",
      "Epoch 6/50\n",
      "15/15 [==============================] - 4s 245ms/step - loss: 0.3001 - acc: 0.8640 - val_loss: 1.0855 - val_acc: 0.7105\n",
      "Epoch 7/50\n",
      "15/15 [==============================] - 4s 255ms/step - loss: 0.5206 - acc: 0.7750 - val_loss: 0.7215 - val_acc: 0.6842\n",
      "Epoch 8/50\n",
      "15/15 [==============================] - 3s 232ms/step - loss: 0.3585 - acc: 0.8491 - val_loss: 0.6803 - val_acc: 0.6579\n",
      "Epoch 9/50\n",
      "15/15 [==============================] - 4s 252ms/step - loss: 0.4143 - acc: 0.7792 - val_loss: 0.8626 - val_acc: 0.6579\n",
      "Epoch 10/50\n",
      "15/15 [==============================] - 4s 236ms/step - loss: 0.4638 - acc: 0.8068 - val_loss: 0.7866 - val_acc: 0.6842\n",
      "Epoch 11/50\n",
      "15/15 [==============================] - 4s 257ms/step - loss: 0.3484 - acc: 0.8458 - val_loss: 0.8885 - val_acc: 0.6053\n",
      "Epoch 12/50\n",
      "15/15 [==============================] - 3s 233ms/step - loss: 0.3512 - acc: 0.8399 - val_loss: 0.8529 - val_acc: 0.6053\n",
      "Epoch 13/50\n",
      "15/15 [==============================] - 4s 259ms/step - loss: 0.3085 - acc: 0.8375 - val_loss: 2.0801 - val_acc: 0.6053\n",
      "Epoch 14/50\n",
      "15/15 [==============================] - 4s 245ms/step - loss: 0.3226 - acc: 0.8765 - val_loss: 1.5693 - val_acc: 0.6316\n",
      "Epoch 15/50\n",
      "15/15 [==============================] - 4s 245ms/step - loss: 0.3510 - acc: 0.8621 - val_loss: 0.9977 - val_acc: 0.7105\n",
      "Epoch 16/50\n",
      "15/15 [==============================] - 4s 239ms/step - loss: 0.3437 - acc: 0.8723 - val_loss: 0.6564 - val_acc: 0.7632\n",
      "Epoch 17/50\n",
      "15/15 [==============================] - 4s 243ms/step - loss: 0.3181 - acc: 0.8538 - val_loss: 0.9346 - val_acc: 0.6579\n",
      "Epoch 18/50\n",
      "15/15 [==============================] - 4s 252ms/step - loss: 0.3232 - acc: 0.8583 - val_loss: 1.5260 - val_acc: 0.5789\n",
      "Epoch 19/50\n",
      "15/15 [==============================] - 4s 237ms/step - loss: 0.4519 - acc: 0.8124 - val_loss: 0.9421 - val_acc: 0.7368\n",
      "Epoch 20/50\n",
      "15/15 [==============================] - 4s 246ms/step - loss: 0.2466 - acc: 0.8932 - val_loss: 1.5538 - val_acc: 0.6842\n",
      "Epoch 21/50\n",
      "15/15 [==============================] - 4s 246ms/step - loss: 0.3948 - acc: 0.8431 - val_loss: 1.2799 - val_acc: 0.6316\n",
      "Epoch 22/50\n",
      "15/15 [==============================] - 4s 240ms/step - loss: 0.4563 - acc: 0.8389 - val_loss: 0.8665 - val_acc: 0.6842\n",
      "Epoch 23/50\n",
      "15/15 [==============================] - 4s 243ms/step - loss: 0.3943 - acc: 0.8342 - val_loss: 0.9710 - val_acc: 0.6316\n",
      "Epoch 24/50\n",
      "15/15 [==============================] - 4s 245ms/step - loss: 0.3186 - acc: 0.8956 - val_loss: 0.7399 - val_acc: 0.7105\n",
      "Epoch 25/50\n",
      "15/15 [==============================] - 4s 257ms/step - loss: 0.3308 - acc: 0.8833 - val_loss: 0.5865 - val_acc: 0.7368\n",
      "Epoch 26/50\n",
      "15/15 [==============================] - 4s 244ms/step - loss: 0.2993 - acc: 0.8849 - val_loss: 1.3321 - val_acc: 0.6316\n",
      "Epoch 27/50\n",
      "15/15 [==============================] - 4s 244ms/step - loss: 0.4600 - acc: 0.7948 - val_loss: 0.7413 - val_acc: 0.7632\n",
      "Epoch 28/50\n",
      "15/15 [==============================] - 4s 244ms/step - loss: 0.2525 - acc: 0.8914 - val_loss: 0.8272 - val_acc: 0.7105\n",
      "Epoch 29/50\n",
      "15/15 [==============================] - 4s 244ms/step - loss: 0.3458 - acc: 0.8514 - val_loss: 0.6510 - val_acc: 0.7368\n",
      "Epoch 30/50\n",
      "15/15 [==============================] - 4s 238ms/step - loss: 0.3338 - acc: 0.8788 - val_loss: 0.8016 - val_acc: 0.7105\n",
      "Epoch 31/50\n",
      "15/15 [==============================] - 4s 246ms/step - loss: 0.2771 - acc: 0.8830 - val_loss: 1.3433 - val_acc: 0.7368\n",
      "Epoch 32/50\n",
      "15/15 [==============================] - 4s 241ms/step - loss: 0.2699 - acc: 0.8872 - val_loss: 0.6966 - val_acc: 0.7895\n",
      "Epoch 33/50\n",
      "15/15 [==============================] - 4s 243ms/step - loss: 0.3209 - acc: 0.8473 - val_loss: 1.0185 - val_acc: 0.7105\n",
      "Epoch 34/50\n",
      "15/15 [==============================] - 4s 246ms/step - loss: 0.2933 - acc: 0.8579 - val_loss: 0.5532 - val_acc: 0.7632\n",
      "Epoch 35/50\n",
      "15/15 [==============================] - 4s 250ms/step - loss: 0.2730 - acc: 0.8833 - val_loss: 0.8240 - val_acc: 0.7895\n",
      "Epoch 36/50\n",
      "15/15 [==============================] - 4s 243ms/step - loss: 0.3435 - acc: 0.9016 - val_loss: 1.2591 - val_acc: 0.6316\n",
      "Epoch 37/50\n",
      "15/15 [==============================] - 3s 232ms/step - loss: 0.2995 - acc: 0.8762 - val_loss: 1.7457 - val_acc: 0.6579\n",
      "Epoch 38/50\n",
      "15/15 [==============================] - 4s 254ms/step - loss: 0.3309 - acc: 0.8708 - val_loss: 1.0765 - val_acc: 0.6842\n",
      "Epoch 39/50\n",
      "15/15 [==============================] - 4s 237ms/step - loss: 0.2854 - acc: 0.8696 - val_loss: 1.5507 - val_acc: 0.6842\n",
      "Epoch 40/50\n",
      "15/15 [==============================] - 4s 243ms/step - loss: 0.2690 - acc: 0.8723 - val_loss: 1.3185 - val_acc: 0.6842\n",
      "Epoch 41/50\n",
      "15/15 [==============================] - 4s 246ms/step - loss: 0.5320 - acc: 0.8138 - val_loss: 0.7061 - val_acc: 0.8158\n",
      "Epoch 42/50\n",
      "15/15 [==============================] - 4s 246ms/step - loss: 0.2201 - acc: 0.8867 - val_loss: 1.4219 - val_acc: 0.6579\n",
      "Epoch 43/50\n",
      "15/15 [==============================] - 4s 246ms/step - loss: 0.3176 - acc: 0.8914 - val_loss: 0.8049 - val_acc: 0.8421\n",
      "Epoch 44/50\n",
      "15/15 [==============================] - 4s 250ms/step - loss: 0.1618 - acc: 0.9167 - val_loss: 1.1762 - val_acc: 0.7105\n",
      "Epoch 45/50\n",
      "15/15 [==============================] - 4s 245ms/step - loss: 0.3864 - acc: 0.8449 - val_loss: 1.0677 - val_acc: 0.7895\n",
      "Epoch 46/50\n",
      "15/15 [==============================] - 4s 233ms/step - loss: 0.4748 - acc: 0.8543 - val_loss: 1.4092 - val_acc: 0.6316\n",
      "Epoch 47/50\n",
      "15/15 [==============================] - 4s 252ms/step - loss: 0.2524 - acc: 0.8917 - val_loss: 1.1620 - val_acc: 0.7105\n",
      "Epoch 48/50\n",
      "15/15 [==============================] - 4s 242ms/step - loss: 0.2571 - acc: 0.8997 - val_loss: 0.8647 - val_acc: 0.8421\n",
      "Epoch 49/50\n",
      "15/15 [==============================] - 4s 248ms/step - loss: 0.3067 - acc: 0.8830 - val_loss: 1.1404 - val_acc: 0.7105\n",
      "Epoch 50/50\n",
      "15/15 [==============================] - 4s 239ms/step - loss: 0.2059 - acc: 0.9290 - val_loss: 1.2183 - val_acc: 0.7105\n"
     ]
    },
    {
     "data": {
      "text/plain": [
       "<keras.callbacks.History at 0x7f6646be0898>"
      ]
     },
     "execution_count": 13,
     "metadata": {},
     "output_type": "execute_result"
    }
   ],
   "source": [
    "train_generator = train_datagen.flow(train_images, train_y, batch_size=batch_size)\n",
    "validation_generator = test_datagen.flow(test_images, test_y)\n",
    "model.fit_generator(train_generator, steps_per_epoch=len(train_images)//batch_size, epochs = 50, validation_data=validation_generator)\n"
   ]
  },
  {
   "cell_type": "code",
   "execution_count": 14,
   "metadata": {},
   "outputs": [],
   "source": [
    "model.save_weights('first_try.h5')"
   ]
  },
  {
   "cell_type": "code",
   "execution_count": null,
   "metadata": {},
   "outputs": [],
   "source": []
  },
  {
   "cell_type": "code",
   "execution_count": null,
   "metadata": {},
   "outputs": [],
   "source": []
  }
 ],
 "metadata": {
  "kernelspec": {
   "display_name": "Python 3",
   "language": "python",
   "name": "python3"
  },
  "language_info": {
   "codemirror_mode": {
    "name": "ipython",
    "version": 3
   },
   "file_extension": ".py",
   "mimetype": "text/x-python",
   "name": "python",
   "nbconvert_exporter": "python",
   "pygments_lexer": "ipython3",
   "version": "3.6.4"
  }
 },
 "nbformat": 4,
 "nbformat_minor": 2
}
