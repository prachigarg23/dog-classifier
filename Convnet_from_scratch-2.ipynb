{
 "cells": [
  {
   "cell_type": "markdown",
   "metadata": {},
   "source": [
    "This code attempts to train convnets from scratch on the final dataset containing 535 images."
   ]
  },
  {
   "cell_type": "code",
   "execution_count": 1,
   "metadata": {},
   "outputs": [
    {
     "name": "stderr",
     "output_type": "stream",
     "text": [
      "/usr/local/lib/python3.6/dist-packages/h5py/__init__.py:36: FutureWarning: Conversion of the second argument of issubdtype from `float` to `np.floating` is deprecated. In future, it will be treated as `np.float64 == np.dtype(float).type`.\n",
      "  from ._conv import register_converters as _register_converters\n",
      "Using TensorFlow backend.\n"
     ]
    }
   ],
   "source": [
    "import numpy as np\n",
    "from keras.models import Sequential\n",
    "from keras.layers import Conv2D, MaxPooling2D\n",
    "from keras.layers import Activation, Dropout, Flatten, Dense\n",
    "from keras.optimizers import SGD, Adam"
   ]
  },
  {
   "cell_type": "code",
   "execution_count": 2,
   "metadata": {},
   "outputs": [],
   "source": [
    "import numpy as np\n",
    "from keras.preprocessing.image import img_to_array, load_img\n",
    "import os"
   ]
  },
  {
   "cell_type": "code",
   "execution_count": 3,
   "metadata": {},
   "outputs": [],
   "source": [
    "def load_images_from_folder(direct):\n",
    "    images = []\n",
    "    y = []\n",
    "    for filename in os.listdir(direct):\n",
    "        image = None\n",
    "        if filename.endswith('jpeg'):\n",
    "            img = load_img(path=direct+filename, target_size=(256,256))\n",
    "        elif filename.endswith('jpg'):\n",
    "            img = load_img(path=direct+filename, target_size=(256,256))\n",
    "        if img is not None :\n",
    "            img = img_to_array(img)\n",
    "            images.append(img)\n",
    "            if(filename.startswith('dog')):\n",
    "                y.append(1)\n",
    "            else:\n",
    "                y.append(0)\n",
    "    return images, y"
   ]
  },
  {
   "cell_type": "code",
   "execution_count": 4,
   "metadata": {},
   "outputs": [],
   "source": [
    "images, labels = load_images_from_folder('dataset/')"
   ]
  },
  {
   "cell_type": "code",
   "execution_count": 5,
   "metadata": {},
   "outputs": [
    {
     "name": "stdout",
     "output_type": "stream",
     "text": [
      "(534, 256, 256, 3)\n",
      "(534,)\n"
     ]
    }
   ],
   "source": [
    "images = np.array(images)\n",
    "labels = np.array(labels)\n",
    "print(images.shape)\n",
    "print(labels.shape)"
   ]
  },
  {
   "cell_type": "code",
   "execution_count": 6,
   "metadata": {},
   "outputs": [
    {
     "name": "stderr",
     "output_type": "stream",
     "text": [
      "/usr/local/lib/python3.6/dist-packages/sklearn/cross_validation.py:41: DeprecationWarning: This module was deprecated in version 0.18 in favor of the model_selection module into which all the refactored classes and functions are moved. Also note that the interface of the new CV iterators are different from that of this module. This module will be removed in 0.20.\n",
      "  \"This module will be removed in 0.20.\", DeprecationWarning)\n"
     ]
    }
   ],
   "source": [
    "import sklearn.cross_validation as cv\n",
    "X_train, X_test, Y_train, Y_test = cv.train_test_split(images, labels, test_size=0.25)"
   ]
  },
  {
   "cell_type": "code",
   "execution_count": 7,
   "metadata": {},
   "outputs": [],
   "source": [
    "# I use a single datagenerator to rescale the images in both training and test dataset\n",
    "from keras.preprocessing.image import ImageDataGenerator\n",
    "datagen = ImageDataGenerator(rescale=1./255)\n",
    "train_generator = datagen.flow(X_train, Y_train)\n",
    "test_generator = datagen.flow(X_test, Y_test)"
   ]
  },
  {
   "cell_type": "markdown",
   "metadata": {},
   "source": [
    "**Model 1**"
   ]
  },
  {
   "cell_type": "code",
   "execution_count": 43,
   "metadata": {},
   "outputs": [
    {
     "name": "stdout",
     "output_type": "stream",
     "text": [
      "_________________________________________________________________\n",
      "Layer (type)                 Output Shape              Param #   \n",
      "=================================================================\n",
      "conv2d_37 (Conv2D)           (None, 254, 254, 32)      896       \n",
      "_________________________________________________________________\n",
      "activation_50 (Activation)   (None, 254, 254, 32)      0         \n",
      "_________________________________________________________________\n",
      "dropout_18 (Dropout)         (None, 254, 254, 32)      0         \n",
      "_________________________________________________________________\n",
      "conv2d_38 (Conv2D)           (None, 252, 252, 32)      9248      \n",
      "_________________________________________________________________\n",
      "dropout_19 (Dropout)         (None, 252, 252, 32)      0         \n",
      "_________________________________________________________________\n",
      "conv2d_39 (Conv2D)           (None, 250, 250, 64)      18496     \n",
      "_________________________________________________________________\n",
      "max_pooling2d_28 (MaxPooling (None, 125, 125, 64)      0         \n",
      "_________________________________________________________________\n",
      "conv2d_40 (Conv2D)           (None, 123, 123, 128)     73856     \n",
      "_________________________________________________________________\n",
      "flatten_12 (Flatten)         (None, 1936512)           0         \n",
      "_________________________________________________________________\n",
      "dense_23 (Dense)             (None, 64)                123936832 \n",
      "_________________________________________________________________\n",
      "activation_51 (Activation)   (None, 64)                0         \n",
      "_________________________________________________________________\n",
      "dropout_20 (Dropout)         (None, 64)                0         \n",
      "_________________________________________________________________\n",
      "dense_24 (Dense)             (None, 1)                 65        \n",
      "_________________________________________________________________\n",
      "activation_52 (Activation)   (None, 1)                 0         \n",
      "=================================================================\n",
      "Total params: 124,039,393\n",
      "Trainable params: 124,039,393\n",
      "Non-trainable params: 0\n",
      "_________________________________________________________________\n"
     ]
    }
   ],
   "source": [
    "model = Sequential()\n",
    "model.add(Conv2D(32, (3, 3), input_shape=(256, 256, 3)))\n",
    "model.add(Activation('relu'))\n",
    "model.add(Dropout(0.2))\n",
    "\n",
    "model.add(Conv2D(32, (3, 3), activation='relu'))\n",
    "model.add(Dropout(0.2))\n",
    "model.add(Conv2D(64, (3, 3), activation='relu'))\n",
    "\n",
    "model.add(MaxPooling2D(pool_size=(2, 2)))\n",
    "model.add(Conv2D(128, (3,3), activation='relu'))\n",
    "\n",
    "model.add(Flatten())  \n",
    "model.add(Dense(64))\n",
    "model.add(Activation('relu'))\n",
    "model.add(Dropout(0.5))\n",
    "model.add(Dense(1))\n",
    "model.add(Activation('sigmoid'))\n",
    "model.summary()"
   ]
  },
  {
   "cell_type": "code",
   "execution_count": null,
   "metadata": {},
   "outputs": [],
   "source": [
    "model.compile(loss='binary_crossentropy',\n",
    "              optimizer= SGD(lr=1e-4, momentum=0.9),\n",
    "              metrics=['accuracy'])"
   ]
  },
  {
   "cell_type": "code",
   "execution_count": 44,
   "metadata": {},
   "outputs": [
    {
     "name": "stdout",
     "output_type": "stream",
     "text": [
      "Epoch 1/50\n",
      "25/25 [==============================] - 24s 946ms/step - loss: 0.7044 - acc: 0.4775 - val_loss: 0.6912 - val_acc: 0.6045\n",
      "Epoch 2/50\n",
      "25/25 [==============================] - 22s 873ms/step - loss: 0.6947 - acc: 0.4975 - val_loss: 0.6915 - val_acc: 0.6269\n",
      "Epoch 3/50\n",
      "25/25 [==============================] - 22s 886ms/step - loss: 0.6903 - acc: 0.5499 - val_loss: 0.6875 - val_acc: 0.5896\n",
      "Epoch 4/50\n",
      "25/25 [==============================] - 22s 861ms/step - loss: 0.6937 - acc: 0.5090 - val_loss: 0.6887 - val_acc: 0.6045\n",
      "Epoch 5/50\n",
      "25/25 [==============================] - 22s 873ms/step - loss: 0.6917 - acc: 0.4974 - val_loss: 0.6870 - val_acc: 0.6194\n",
      "Epoch 6/50\n",
      "25/25 [==============================] - 22s 890ms/step - loss: 0.6897 - acc: 0.5399 - val_loss: 0.6854 - val_acc: 0.5970\n",
      "Epoch 7/50\n",
      "25/25 [==============================] - 22s 875ms/step - loss: 0.6862 - acc: 0.5199 - val_loss: 0.6991 - val_acc: 0.4179\n",
      "Epoch 8/50\n",
      "25/25 [==============================] - 21s 855ms/step - loss: 0.6845 - acc: 0.5564 - val_loss: 0.6866 - val_acc: 0.5746\n",
      "Epoch 9/50\n",
      "25/25 [==============================] - 22s 887ms/step - loss: 0.6763 - acc: 0.5674 - val_loss: 0.6906 - val_acc: 0.5224\n",
      "Epoch 10/50\n",
      "25/25 [==============================] - 22s 870ms/step - loss: 0.6852 - acc: 0.5327 - val_loss: 0.6816 - val_acc: 0.6045\n",
      "Epoch 11/50\n",
      "25/25 [==============================] - 22s 877ms/step - loss: 0.6858 - acc: 0.5450 - val_loss: 0.6910 - val_acc: 0.5000\n",
      "Epoch 12/50\n",
      "25/25 [==============================] - 22s 871ms/step - loss: 0.6798 - acc: 0.5699 - val_loss: 0.6860 - val_acc: 0.5448\n",
      "Epoch 13/50\n",
      "25/25 [==============================] - 22s 871ms/step - loss: 0.6800 - acc: 0.5725 - val_loss: 0.6864 - val_acc: 0.5970\n",
      "Epoch 14/50\n",
      "25/25 [==============================] - 22s 876ms/step - loss: 0.6834 - acc: 0.5512 - val_loss: 0.6937 - val_acc: 0.5224\n",
      "Epoch 15/50\n",
      "25/25 [==============================] - 22s 881ms/step - loss: 0.6753 - acc: 0.5536 - val_loss: 0.6797 - val_acc: 0.6119\n",
      "Epoch 16/50\n",
      "25/25 [==============================] - 22s 866ms/step - loss: 0.6700 - acc: 0.5802 - val_loss: 0.6859 - val_acc: 0.5448\n",
      "Epoch 17/50\n",
      "25/25 [==============================] - 22s 881ms/step - loss: 0.6693 - acc: 0.5550 - val_loss: 0.6874 - val_acc: 0.5522\n",
      "Epoch 18/50\n",
      "25/25 [==============================] - 22s 884ms/step - loss: 0.6696 - acc: 0.6000 - val_loss: 0.6940 - val_acc: 0.5149\n",
      "Epoch 19/50\n",
      "25/25 [==============================] - 21s 855ms/step - loss: 0.6689 - acc: 0.5865 - val_loss: 0.6777 - val_acc: 0.5821\n",
      "Epoch 20/50\n",
      "25/25 [==============================] - 22s 881ms/step - loss: 0.6612 - acc: 0.6026 - val_loss: 0.6748 - val_acc: 0.6045\n",
      "Epoch 21/50\n",
      "25/25 [==============================] - 22s 887ms/step - loss: 0.6628 - acc: 0.5963 - val_loss: 0.6727 - val_acc: 0.6194\n",
      "Epoch 22/50\n",
      "25/25 [==============================] - 22s 877ms/step - loss: 0.6579 - acc: 0.6124 - val_loss: 0.6633 - val_acc: 0.6045\n",
      "Epoch 23/50\n",
      "25/25 [==============================] - 22s 873ms/step - loss: 0.6693 - acc: 0.5737 - val_loss: 0.6846 - val_acc: 0.5672\n",
      "Epoch 24/50\n",
      "25/25 [==============================] - 22s 871ms/step - loss: 0.6553 - acc: 0.6049 - val_loss: 0.6746 - val_acc: 0.5970\n",
      "Epoch 25/50\n",
      "25/25 [==============================] - 22s 874ms/step - loss: 0.6526 - acc: 0.6125 - val_loss: 0.6746 - val_acc: 0.5746\n",
      "Epoch 26/50\n",
      "25/25 [==============================] - 22s 882ms/step - loss: 0.6540 - acc: 0.6286 - val_loss: 0.6750 - val_acc: 0.5970\n",
      "Epoch 27/50\n",
      "25/25 [==============================] - 22s 869ms/step - loss: 0.6469 - acc: 0.6310 - val_loss: 0.6722 - val_acc: 0.5896\n",
      "Epoch 28/50\n",
      "25/25 [==============================] - 22s 875ms/step - loss: 0.6465 - acc: 0.6061 - val_loss: 0.6779 - val_acc: 0.5746\n",
      "Epoch 29/50\n",
      "25/25 [==============================] - 22s 888ms/step - loss: 0.6363 - acc: 0.6388 - val_loss: 0.6708 - val_acc: 0.5970\n",
      "Epoch 30/50\n",
      "25/25 [==============================] - 21s 858ms/step - loss: 0.6381 - acc: 0.6564 - val_loss: 0.6819 - val_acc: 0.5597\n",
      "Epoch 31/50\n",
      "25/25 [==============================] - 22s 889ms/step - loss: 0.6338 - acc: 0.6537 - val_loss: 0.6687 - val_acc: 0.5746\n",
      "Epoch 32/50\n",
      "25/25 [==============================] - 21s 854ms/step - loss: 0.6352 - acc: 0.6598 - val_loss: 0.6716 - val_acc: 0.5896\n",
      "Epoch 33/50\n",
      "25/25 [==============================] - 22s 873ms/step - loss: 0.6268 - acc: 0.6277 - val_loss: 0.6768 - val_acc: 0.5821\n",
      "Epoch 34/50\n",
      "25/25 [==============================] - 22s 870ms/step - loss: 0.6207 - acc: 0.6538 - val_loss: 0.6605 - val_acc: 0.6045\n",
      "Epoch 35/50\n",
      "25/25 [==============================] - 22s 871ms/step - loss: 0.6228 - acc: 0.6713 - val_loss: 0.6818 - val_acc: 0.5821\n",
      "Epoch 36/50\n",
      "25/25 [==============================] - 22s 888ms/step - loss: 0.6224 - acc: 0.6438 - val_loss: 0.6784 - val_acc: 0.5224\n",
      "Epoch 37/50\n",
      "25/25 [==============================] - 22s 871ms/step - loss: 0.6102 - acc: 0.6587 - val_loss: 0.6631 - val_acc: 0.6119\n",
      "Epoch 38/50\n",
      "25/25 [==============================] - 22s 874ms/step - loss: 0.6135 - acc: 0.6723 - val_loss: 0.6593 - val_acc: 0.6343\n",
      "Epoch 39/50\n",
      "25/25 [==============================] - 22s 874ms/step - loss: 0.6023 - acc: 0.6638 - val_loss: 0.6784 - val_acc: 0.5597\n",
      "Epoch 40/50\n",
      "25/25 [==============================] - 22s 874ms/step - loss: 0.6092 - acc: 0.6512 - val_loss: 0.6744 - val_acc: 0.5299\n",
      "Epoch 41/50\n",
      "25/25 [==============================] - 22s 872ms/step - loss: 0.6001 - acc: 0.6700 - val_loss: 0.6507 - val_acc: 0.6418\n",
      "Epoch 42/50\n",
      "25/25 [==============================] - 22s 872ms/step - loss: 0.5944 - acc: 0.6676 - val_loss: 0.7151 - val_acc: 0.4552\n",
      "Epoch 43/50\n",
      "25/25 [==============================] - 22s 886ms/step - loss: 0.6303 - acc: 0.6523 - val_loss: 0.6776 - val_acc: 0.6045\n",
      "Epoch 44/50\n",
      "25/25 [==============================] - 21s 853ms/step - loss: 0.6208 - acc: 0.6575 - val_loss: 0.6839 - val_acc: 0.5149\n",
      "Epoch 45/50\n",
      "25/25 [==============================] - 22s 892ms/step - loss: 0.6240 - acc: 0.6437 - val_loss: 0.6696 - val_acc: 0.6343\n",
      "Epoch 46/50\n",
      "25/25 [==============================] - 21s 859ms/step - loss: 0.6260 - acc: 0.6450 - val_loss: 0.6682 - val_acc: 0.6045\n",
      "Epoch 47/50\n",
      "25/25 [==============================] - 22s 893ms/step - loss: 0.5940 - acc: 0.6761 - val_loss: 0.6593 - val_acc: 0.6045\n",
      "Epoch 48/50\n",
      "25/25 [==============================] - 22s 875ms/step - loss: 0.5700 - acc: 0.7073 - val_loss: 0.6516 - val_acc: 0.6642\n",
      "Epoch 49/50\n",
      "25/25 [==============================] - 22s 875ms/step - loss: 0.5839 - acc: 0.6887 - val_loss: 0.6419 - val_acc: 0.6119\n",
      "Epoch 50/50\n",
      "25/25 [==============================] - 22s 874ms/step - loss: 0.5953 - acc: 0.6874 - val_loss: 0.6644 - val_acc: 0.5821\n"
     ]
    },
    {
     "data": {
      "text/plain": [
       "<keras.callbacks.History at 0x7fd3d1633f60>"
      ]
     },
     "execution_count": 44,
     "metadata": {},
     "output_type": "execute_result"
    }
   ],
   "source": [
    "model.fit_generator(train_generator, steps_per_epoch=len(X_train)//16, epochs=50, validation_data=test_generator)"
   ]
  },
  {
   "cell_type": "code",
   "execution_count": 45,
   "metadata": {},
   "outputs": [],
   "source": [
    "model.save_weights('new_convnet')"
   ]
  },
  {
   "cell_type": "markdown",
   "metadata": {},
   "source": [
    "**Validation accuracy = 60-66%**"
   ]
  },
  {
   "cell_type": "markdown",
   "metadata": {},
   "source": [
    "**Model 2**"
   ]
  },
  {
   "cell_type": "code",
   "execution_count": 35,
   "metadata": {},
   "outputs": [
    {
     "name": "stdout",
     "output_type": "stream",
     "text": [
      "_________________________________________________________________\n",
      "Layer (type)                 Output Shape              Param #   \n",
      "=================================================================\n",
      "conv2d_20 (Conv2D)           (None, 254, 254, 32)      896       \n",
      "_________________________________________________________________\n",
      "max_pooling2d_10 (MaxPooling (None, 127, 127, 32)      0         \n",
      "_________________________________________________________________\n",
      "conv2d_21 (Conv2D)           (None, 125, 125, 32)      9248      \n",
      "_________________________________________________________________\n",
      "dropout_18 (Dropout)         (None, 125, 125, 32)      0         \n",
      "_________________________________________________________________\n",
      "conv2d_22 (Conv2D)           (None, 123, 123, 64)      18496     \n",
      "_________________________________________________________________\n",
      "max_pooling2d_11 (MaxPooling (None, 61, 61, 64)        0         \n",
      "_________________________________________________________________\n",
      "conv2d_23 (Conv2D)           (None, 59, 59, 128)       73856     \n",
      "_________________________________________________________________\n",
      "flatten_7 (Flatten)          (None, 445568)            0         \n",
      "_________________________________________________________________\n",
      "dense_15 (Dense)             (None, 64)                28516416  \n",
      "_________________________________________________________________\n",
      "dropout_19 (Dropout)         (None, 64)                0         \n",
      "_________________________________________________________________\n",
      "dense_16 (Dense)             (None, 1)                 65        \n",
      "_________________________________________________________________\n",
      "activation_8 (Activation)    (None, 1)                 0         \n",
      "=================================================================\n",
      "Total params: 28,618,977\n",
      "Trainable params: 28,618,977\n",
      "Non-trainable params: 0\n",
      "_________________________________________________________________\n"
     ]
    }
   ],
   "source": [
    "model = Sequential()\n",
    "model.add(Conv2D(32, (3, 3), input_shape=(256, 256, 3), activation='relu', kernel_initializer='glorot_normal'))\n",
    "model.add(MaxPooling2D(pool_size=(2, 2)))\n",
    "\n",
    "model.add(Conv2D(32, (3, 3), activation='relu',kernel_initializer='glorot_normal'))\n",
    "model.add(Dropout(0.2))\n",
    "model.add(Conv2D(64, (3, 3), activation='relu',kernel_initializer='glorot_normal'))\n",
    "\n",
    "model.add(MaxPooling2D(pool_size=(2, 2)))\n",
    "model.add(Conv2D(128, (3,3), activation='relu',kernel_initializer='glorot_normal'))\n",
    "\n",
    "model.add(Flatten())  \n",
    "model.add(Dense(64, activation='relu'))\n",
    "model.add(Dropout(0.5))\n",
    "model.add(Dense(1))\n",
    "model.add(Activation('sigmoid'))\n",
    "model.summary()"
   ]
  },
  {
   "cell_type": "code",
   "execution_count": 36,
   "metadata": {},
   "outputs": [],
   "source": [
    "model.compile(loss='binary_crossentropy',\n",
    "              optimizer= SGD(lr=0.01),\n",
    "              metrics=['accuracy'])"
   ]
  },
  {
   "cell_type": "code",
   "execution_count": 37,
   "metadata": {},
   "outputs": [
    {
     "name": "stdout",
     "output_type": "stream",
     "text": [
      "Epoch 1/50\n",
      "25/25 [==============================] - 6s 257ms/step - loss: 0.6948 - acc: 0.5287 - val_loss: 0.6931 - val_acc: 0.5000\n",
      "Epoch 2/50\n",
      "25/25 [==============================] - 5s 218ms/step - loss: 0.6881 - acc: 0.5374 - val_loss: 0.6943 - val_acc: 0.5000\n",
      "Epoch 3/50\n",
      "25/25 [==============================] - 5s 215ms/step - loss: 0.6826 - acc: 0.5399 - val_loss: 0.6949 - val_acc: 0.4925\n",
      "Epoch 4/50\n",
      "25/25 [==============================] - 5s 218ms/step - loss: 0.6835 - acc: 0.5598 - val_loss: 0.6961 - val_acc: 0.5000\n",
      "Epoch 5/50\n",
      "25/25 [==============================] - 5s 217ms/step - loss: 0.6759 - acc: 0.5774 - val_loss: 0.6948 - val_acc: 0.5000\n",
      "Epoch 6/50\n",
      "25/25 [==============================] - 5s 218ms/step - loss: 0.6724 - acc: 0.6025 - val_loss: 0.6998 - val_acc: 0.4925\n",
      "Epoch 7/50\n",
      "25/25 [==============================] - 6s 221ms/step - loss: 0.6653 - acc: 0.6013 - val_loss: 0.7008 - val_acc: 0.4776\n",
      "Epoch 8/50\n",
      "25/25 [==============================] - 5s 218ms/step - loss: 0.6729 - acc: 0.5762 - val_loss: 0.7005 - val_acc: 0.4925\n",
      "Epoch 9/50\n",
      "25/25 [==============================] - 5s 217ms/step - loss: 0.6568 - acc: 0.6175 - val_loss: 0.6998 - val_acc: 0.4627\n",
      "Epoch 10/50\n",
      "25/25 [==============================] - 5s 219ms/step - loss: 0.6591 - acc: 0.5975 - val_loss: 0.7020 - val_acc: 0.4851\n",
      "Epoch 11/50\n",
      "25/25 [==============================] - 5s 218ms/step - loss: 0.6520 - acc: 0.6224 - val_loss: 0.6930 - val_acc: 0.5448\n",
      "Epoch 12/50\n",
      "25/25 [==============================] - 5s 216ms/step - loss: 0.6539 - acc: 0.6387 - val_loss: 0.6942 - val_acc: 0.5597\n",
      "Epoch 13/50\n",
      "25/25 [==============================] - 5s 218ms/step - loss: 0.6497 - acc: 0.5989 - val_loss: 0.6946 - val_acc: 0.5373\n",
      "Epoch 14/50\n",
      "25/25 [==============================] - 5s 218ms/step - loss: 0.6425 - acc: 0.6324 - val_loss: 0.7000 - val_acc: 0.5075\n",
      "Epoch 15/50\n",
      "25/25 [==============================] - 5s 219ms/step - loss: 0.6384 - acc: 0.6450 - val_loss: 0.6923 - val_acc: 0.5000\n",
      "Epoch 16/50\n",
      "25/25 [==============================] - 5s 218ms/step - loss: 0.6348 - acc: 0.6486 - val_loss: 0.6912 - val_acc: 0.4925\n",
      "Epoch 17/50\n",
      "25/25 [==============================] - 5s 217ms/step - loss: 0.6168 - acc: 0.6748 - val_loss: 0.6994 - val_acc: 0.5000\n",
      "Epoch 18/50\n",
      "25/25 [==============================] - 6s 221ms/step - loss: 0.6276 - acc: 0.6602 - val_loss: 0.7038 - val_acc: 0.4925\n",
      "Epoch 19/50\n",
      "25/25 [==============================] - 5s 218ms/step - loss: 0.6131 - acc: 0.6825 - val_loss: 0.6931 - val_acc: 0.5224\n",
      "Epoch 20/50\n",
      "25/25 [==============================] - 5s 214ms/step - loss: 0.6164 - acc: 0.6588 - val_loss: 0.6846 - val_acc: 0.5224\n",
      "Epoch 21/50\n",
      "25/25 [==============================] - 6s 222ms/step - loss: 0.6073 - acc: 0.6888 - val_loss: 0.6909 - val_acc: 0.5373\n",
      "Epoch 22/50\n",
      "25/25 [==============================] - 5s 218ms/step - loss: 0.5813 - acc: 0.7088 - val_loss: 0.7135 - val_acc: 0.5299\n",
      "Epoch 23/50\n",
      "25/25 [==============================] - 5s 215ms/step - loss: 0.5875 - acc: 0.6962 - val_loss: 0.6953 - val_acc: 0.5448\n",
      "Epoch 24/50\n",
      "25/25 [==============================] - 6s 223ms/step - loss: 0.5619 - acc: 0.7212 - val_loss: 0.6842 - val_acc: 0.4925\n",
      "Epoch 25/50\n",
      "25/25 [==============================] - 5s 218ms/step - loss: 0.5655 - acc: 0.7274 - val_loss: 0.6843 - val_acc: 0.5522\n",
      "Epoch 26/50\n",
      "25/25 [==============================] - 5s 219ms/step - loss: 0.5426 - acc: 0.7365 - val_loss: 0.6840 - val_acc: 0.5597\n",
      "Epoch 27/50\n",
      "25/25 [==============================] - 5s 218ms/step - loss: 0.5444 - acc: 0.7465 - val_loss: 0.7041 - val_acc: 0.5299\n",
      "Epoch 28/50\n",
      "25/25 [==============================] - 5s 219ms/step - loss: 0.5128 - acc: 0.7575 - val_loss: 0.7295 - val_acc: 0.5299\n",
      "Epoch 29/50\n",
      "25/25 [==============================] - 5s 218ms/step - loss: 0.5078 - acc: 0.7624 - val_loss: 0.8484 - val_acc: 0.5522\n",
      "Epoch 30/50\n",
      "25/25 [==============================] - 6s 222ms/step - loss: 0.5112 - acc: 0.7501 - val_loss: 0.6699 - val_acc: 0.6119\n",
      "Epoch 31/50\n",
      "25/25 [==============================] - 5s 215ms/step - loss: 0.4504 - acc: 0.8124 - val_loss: 0.6861 - val_acc: 0.5821\n",
      "Epoch 32/50\n",
      "25/25 [==============================] - 5s 219ms/step - loss: 0.4454 - acc: 0.7987 - val_loss: 0.6963 - val_acc: 0.5821\n",
      "Epoch 33/50\n",
      "25/25 [==============================] - 6s 222ms/step - loss: 0.3871 - acc: 0.8377 - val_loss: 1.0097 - val_acc: 0.4925\n",
      "Epoch 34/50\n",
      "25/25 [==============================] - 5s 218ms/step - loss: 0.3572 - acc: 0.8575 - val_loss: 0.7545 - val_acc: 0.5522\n",
      "Epoch 35/50\n",
      "25/25 [==============================] - 5s 219ms/step - loss: 0.4207 - acc: 0.8074 - val_loss: 0.7176 - val_acc: 0.5522\n",
      "Epoch 36/50\n",
      "25/25 [==============================] - 5s 215ms/step - loss: 0.3461 - acc: 0.8513 - val_loss: 0.7254 - val_acc: 0.5970\n",
      "Epoch 37/50\n",
      "25/25 [==============================] - 6s 223ms/step - loss: 0.3508 - acc: 0.8624 - val_loss: 0.7114 - val_acc: 0.6045\n",
      "Epoch 38/50\n",
      "25/25 [==============================] - 5s 219ms/step - loss: 0.2893 - acc: 0.8962 - val_loss: 0.7250 - val_acc: 0.5896\n",
      "Epoch 39/50\n",
      "25/25 [==============================] - 5s 219ms/step - loss: 0.2729 - acc: 0.8913 - val_loss: 0.7950 - val_acc: 0.5896\n",
      "Epoch 40/50\n",
      "25/25 [==============================] - 5s 217ms/step - loss: 0.2805 - acc: 0.8986 - val_loss: 0.9103 - val_acc: 0.5373\n",
      "Epoch 41/50\n",
      "25/25 [==============================] - 5s 218ms/step - loss: 0.2528 - acc: 0.9048 - val_loss: 0.8043 - val_acc: 0.5970\n",
      "Epoch 42/50\n",
      "25/25 [==============================] - 5s 218ms/step - loss: 0.2012 - acc: 0.9249 - val_loss: 0.7908 - val_acc: 0.6269\n",
      "Epoch 43/50\n",
      "25/25 [==============================] - 5s 219ms/step - loss: 0.3013 - acc: 0.8974 - val_loss: 0.7645 - val_acc: 0.5672\n",
      "Epoch 44/50\n",
      "25/25 [==============================] - 5s 220ms/step - loss: 0.2295 - acc: 0.9199 - val_loss: 1.0252 - val_acc: 0.5373\n",
      "Epoch 45/50\n",
      "25/25 [==============================] - 5s 218ms/step - loss: 0.2154 - acc: 0.9275 - val_loss: 0.9242 - val_acc: 0.5970\n",
      "Epoch 46/50\n",
      "25/25 [==============================] - 6s 222ms/step - loss: 0.1673 - acc: 0.9562 - val_loss: 0.8496 - val_acc: 0.6567\n",
      "Epoch 47/50\n",
      "25/25 [==============================] - 5s 215ms/step - loss: 0.1215 - acc: 0.9699 - val_loss: 0.9583 - val_acc: 0.6119\n",
      "Epoch 48/50\n",
      "25/25 [==============================] - 5s 220ms/step - loss: 0.0773 - acc: 0.9825 - val_loss: 0.9804 - val_acc: 0.6567\n",
      "Epoch 49/50\n",
      "25/25 [==============================] - 6s 222ms/step - loss: 0.0590 - acc: 0.9887 - val_loss: 1.0227 - val_acc: 0.6418\n",
      "Epoch 50/50\n",
      "25/25 [==============================] - 5s 219ms/step - loss: 0.0523 - acc: 0.9876 - val_loss: 1.1007 - val_acc: 0.6493\n"
     ]
    },
    {
     "data": {
      "text/plain": [
       "<keras.callbacks.History at 0x7fd2a7cbd390>"
      ]
     },
     "execution_count": 37,
     "metadata": {},
     "output_type": "execute_result"
    }
   ],
   "source": [
    "model.fit_generator(train_generator, steps_per_epoch=len(X_train)//16, epochs=50, validation_data=test_generator)"
   ]
  },
  {
   "cell_type": "code",
   "execution_count": 38,
   "metadata": {},
   "outputs": [],
   "source": [
    "model.save_weights('new_convnet2.h5')"
   ]
  },
  {
   "cell_type": "markdown",
   "metadata": {},
   "source": [
    "**Validation accuracy = 65%**"
   ]
  },
  {
   "cell_type": "markdown",
   "metadata": {},
   "source": [
    "I tried various combinations of learning rates, initializers, optimizers, dropout rates and architectures."
   ]
  },
  {
   "cell_type": "code",
   "execution_count": null,
   "metadata": {},
   "outputs": [],
   "source": []
  }
 ],
 "metadata": {
  "kernelspec": {
   "display_name": "Python 3",
   "language": "python",
   "name": "python3"
  },
  "language_info": {
   "codemirror_mode": {
    "name": "ipython",
    "version": 3
   },
   "file_extension": ".py",
   "mimetype": "text/x-python",
   "name": "python",
   "nbconvert_exporter": "python",
   "pygments_lexer": "ipython3",
   "version": "3.6.4"
  }
 },
 "nbformat": 4,
 "nbformat_minor": 2
}
