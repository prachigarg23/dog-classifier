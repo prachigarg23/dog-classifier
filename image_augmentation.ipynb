{
 "cells": [
  {
   "cell_type": "markdown",
   "metadata": {},
   "source": [
    "### This code augments data "
   ]
  },
  {
   "cell_type": "code",
   "execution_count": 14,
   "metadata": {},
   "outputs": [],
   "source": [
    "import numpy as np\n",
    "from keras.preprocessing.image import img_to_array, load_img\n",
    "import os"
   ]
  },
  {
   "cell_type": "code",
   "execution_count": 15,
   "metadata": {},
   "outputs": [],
   "source": [
    "def load_images_from_folder(direct):\n",
    "    images = []\n",
    "    y = []\n",
    "    for filename in os.listdir(direct):\n",
    "        image = None\n",
    "        if filename.endswith('jpeg'):\n",
    "            img = load_img(path=direct+filename, target_size=(256,256))\n",
    "        elif filename.endswith('jpg'):\n",
    "            img = load_img(path=direct+filename, target_size=(256,256))\n",
    "        if img is not None :\n",
    "            img = img_to_array(img)\n",
    "            images.append(img)\n",
    "            if(filename.startswith('dog')):\n",
    "                y.append(1)\n",
    "            else:\n",
    "                y.append(0)\n",
    "    return images, y"
   ]
  },
  {
   "cell_type": "code",
   "execution_count": 18,
   "metadata": {},
   "outputs": [],
   "source": [
    "images, labels = load_images_from_folder('dataset/')\n",
    "images = np.array(images)"
   ]
  },
  {
   "cell_type": "code",
   "execution_count": 34,
   "metadata": {},
   "outputs": [
    {
     "name": "stdout",
     "output_type": "stream",
     "text": [
      "(535, 256, 256, 3)\n",
      "(535,)\n"
     ]
    }
   ],
   "source": [
    "images = np.array(images)\n",
    "labels = np.array(labels)\n",
    "print(images.shape)\n",
    "print(labels.shape)"
   ]
  },
  {
   "cell_type": "code",
   "execution_count": 37,
   "metadata": {},
   "outputs": [],
   "source": [
    "import sklearn.cross_validation as cv\n",
    "X_train_, X_test_, Y_train_, Y_test_ = cv.train_test_split(images, labels, test_size=0.25)"
   ]
  },
  {
   "cell_type": "code",
   "execution_count": 38,
   "metadata": {},
   "outputs": [
    {
     "name": "stdout",
     "output_type": "stream",
     "text": [
      "401\n"
     ]
    },
    {
     "data": {
      "text/plain": [
       "134"
      ]
     },
     "execution_count": 38,
     "metadata": {},
     "output_type": "execute_result"
    }
   ],
   "source": [
    "print(len(Y_train_))\n",
    "len(Y_test_)"
   ]
  },
  {
   "cell_type": "code",
   "execution_count": 39,
   "metadata": {},
   "outputs": [],
   "source": [
    "from keras.preprocessing.image import ImageDataGenerator"
   ]
  },
  {
   "cell_type": "code",
   "execution_count": 40,
   "metadata": {},
   "outputs": [],
   "source": [
    "train_datagen = ImageDataGenerator(\n",
    "        rotation_range=15,\n",
    "        width_shift_range=0.12,\n",
    "        height_shift_range=0.12,\n",
    "        rescale=1./255,\n",
    "        shear_range=0.15,\n",
    "        zoom_range=0.1,\n",
    "        horizontal_flip=True,\n",
    "        fill_mode='nearest')"
   ]
  },
  {
   "cell_type": "code",
   "execution_count": 41,
   "metadata": {},
   "outputs": [],
   "source": [
    "test_datagen = ImageDataGenerator(rescale=1./255)"
   ]
  },
  {
   "cell_type": "code",
   "execution_count": 42,
   "metadata": {},
   "outputs": [],
   "source": [
    "batch_size=16"
   ]
  },
  {
   "cell_type": "code",
   "execution_count": 43,
   "metadata": {},
   "outputs": [],
   "source": [
    "# the training set contains 401 images "
   ]
  },
  {
   "cell_type": "code",
   "execution_count": 44,
   "metadata": {},
   "outputs": [],
   "source": [
    "X_train = []\n",
    "Y_train = []\n",
    "# each iteration of outer loop generates 400 samples which is basically 1 epoch \n",
    "# each iteration of inner loop generates 16 samples = batch_size\n",
    "# number of times inner loop runs ==> #steps_per_epoch = size_of_dataset // batch_size = 24\n",
    "for k in range(2):\n",
    "    i = 0\n",
    "    for X_batch, Y_batch in train_datagen.flow(train_images, train_labels, batch_size = batch_size, shuffle = False, save_to_dir = \"augment_ordata\", save_prefix = \"img\", save_format='jpeg'):\n",
    "        for j in range(batch_size):\n",
    "            X_train.append(X_batch[j][:][:][:])\n",
    "            Y_train.append(Y_batch[j])    \n",
    "        i += 1\n",
    "        if i > 24:\n",
    "            break  "
   ]
  },
  {
   "cell_type": "code",
   "execution_count": 45,
   "metadata": {},
   "outputs": [
    {
     "name": "stdout",
     "output_type": "stream",
     "text": [
      "(800, 256, 256, 3)\n",
      "1\n"
     ]
    }
   ],
   "source": [
    "print(np.array(X_train).shape)\n",
    "print(Y_train[20])"
   ]
  },
  {
   "cell_type": "code",
   "execution_count": 46,
   "metadata": {},
   "outputs": [
    {
     "name": "stdout",
     "output_type": "stream",
     "text": [
      "(1201, 256, 256, 3)\n",
      "(1201,)\n"
     ]
    }
   ],
   "source": [
    "# we have 800 samples in the dataset now.\n",
    "# i shall augment the original dataset also to it \n",
    "for j in range(401):\n",
    "    X_train.append(train_images[j][:][:][:])\n",
    "    Y_train.append(train_labels[j]) \n",
    "print(np.array(X_train).shape)\n",
    "print(np.array(Y_train).shape)"
   ]
  },
  {
   "cell_type": "code",
   "execution_count": null,
   "metadata": {},
   "outputs": [],
   "source": [
    "# the new images are stored in 'augment_train_images' directory\n",
    "# the new dataset is stored in X_train so that it can be easily tested on various model"
   ]
  },
  {
   "cell_type": "code",
   "execution_count": 47,
   "metadata": {},
   "outputs": [],
   "source": [
    "np.save('x_original_data_augment.npy', X_train)\n",
    "np.save('y_original_data_augment.npy', Y_train)"
   ]
  },
  {
   "cell_type": "code",
   "execution_count": null,
   "metadata": {},
   "outputs": [],
   "source": []
  }
 ],
 "metadata": {
  "kernelspec": {
   "display_name": "Python 3",
   "language": "python",
   "name": "python3"
  },
  "language_info": {
   "codemirror_mode": {
    "name": "ipython",
    "version": 3
   },
   "file_extension": ".py",
   "mimetype": "text/x-python",
   "name": "python",
   "nbconvert_exporter": "python",
   "pygments_lexer": "ipython3",
   "version": "3.6.4"
  }
 },
 "nbformat": 4,
 "nbformat_minor": 2
}
